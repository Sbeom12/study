{
 "cells": [
  {
   "cell_type": "code",
   "execution_count": 1,
   "metadata": {},
   "outputs": [
    {
     "name": "stdout",
     "output_type": "stream",
     "text": [
      "(1) Rock\n",
      "(2) Paper\n",
      "(3) Scissors\n",
      "You chose paper\n",
      "The computer chose paper\n",
      "Draw!\n"
     ]
    }
   ],
   "source": [
    "# Shoddy procedural code\n",
    "import random\n",
    "\n",
    "print('(1) Rock\\n(2) Paper\\n(3) Scissors')\n",
    "human_choice = options[int(input('Enter the number of your choice: ')) - 1]\n",
    "print(f'You chose {human_choice}')\n",
    "computer_choice = random.choice(options)\n",
    "print(f'The computer chose {computer_choice}')\n",
    "if human_choice == 'rock':\n",
    "    if computer_choice == 'paper':\n",
    "        print('Sorry, paper beat rock')\n",
    "    elif computer_choice == 'scissors':\n",
    "        print('Yes, rock beat scissors!')\n",
    "    else:\n",
    "        print('Draw!')\n",
    "elif human_choice == 'paper':\n",
    "    if computer_choice == 'scissors':\n",
    "        print('Sorry, scissors beat paper')\n",
    "    elif computer_choice == 'rock':\n",
    "        print('Yes, paper beat rock!')\n",
    "    else:\n",
    "        print('Draw!')\n",
    "elif human_choice == 'scissors':\n",
    "    if computer_choice == 'rock':\n",
    "        print('Sorry, rock beat scissors')\n",
    "    elif computer_choice == 'paper':\n",
    "        print('Yes, scissors beat paper!')\n",
    "    else:\n",
    "        print('Draw!')"
   ]
  },
  {
   "cell_type": "markdown",
   "metadata": {},
   "source": [
    "* function으로 관심도 분리\n",
    "    * 뭐 낼지 고르는 단계\n",
    "    * 결과 비교하는 단계"
   ]
  },
  {
   "cell_type": "code",
   "execution_count": 6,
   "metadata": {},
   "outputs": [
    {
     "name": "stdout",
     "output_type": "stream",
     "text": [
      "(1) Rock\n",
      "(2) Paper\n",
      "(3) Scissors\n",
      "You chose paper\n",
      "The computer chose scissors\n",
      "Sorry, scissors beat paper\n"
     ]
    }
   ],
   "source": [
    "import random\n",
    "\n",
    "def choice():\n",
    "    options = ['rock', 'paper', 'scissors']\n",
    "    print('(1) Rock\\n(2) Paper\\n(3) Scissors')\n",
    "    human_choice = options[int(input('Enter the number of your choice: ')) - 1]\n",
    "    print(f'You chose {human_choice}')\n",
    "    computer_choice = random.choice(options)\n",
    "    print(f'The computer chose {computer_choice}')\n",
    "    return human_choice, computer_choice\n",
    "\n",
    "def check_result(human, com):\n",
    "    if human == com:\n",
    "        print('Draw!')\n",
    "    if human == 'rock':\n",
    "        if com == 'paper':\n",
    "            print('Sorry, paper beat rock')\n",
    "        elif com == 'scissors':\n",
    "            print('Yes, rock beat scissors!')\n",
    "    elif human == 'paper':\n",
    "        if com == 'scissors':\n",
    "            print('Sorry, scissors beat paper')\n",
    "        elif com == 'rock':\n",
    "            print('Yes, paper beat rock!')\n",
    "    elif human == 'scissors':\n",
    "        if com == 'rock':\n",
    "            print('Sorry, rock beat scissors')\n",
    "        elif com == 'paper':\n",
    "            print('Yes, scissors beat paper!')\n",
    "\n",
    "human, com = choice()\n",
    "check_result(human, com)\n"
   ]
  },
  {
   "cell_type": "markdown",
   "metadata": {},
   "source": [
    "* 실제 정답에 가까운 코드\n",
    "* 진짜 매우 작은 단위로 까지 낮추기."
   ]
  },
  {
   "cell_type": "code",
   "execution_count": 1,
   "metadata": {},
   "outputs": [
    {
     "name": "stdout",
     "output_type": "stream",
     "text": [
      "(1) Rock\n",
      "(2) Paper\n",
      "(3) Scissors\n",
      "You chose rock\n",
      "The computer chose scissors\n",
      "Yes, rock beats scissors\n"
     ]
    }
   ],
   "source": [
    "import random\n",
    "options = ['rock', 'paper', 'scissors']\n",
    "\n",
    "def get_computer_choice():\n",
    "    return random.choice(options)\n",
    "\n",
    "def get_human_choice():\n",
    "    choice_number = input('Enter the number of your choice: ')\n",
    "    return options[int(choice_number) - 1]\n",
    "\n",
    "def print_options():\n",
    "    print('\\n'.join(f'({i}) {option.title()}'for i, option in enumerate(options, 1)))\n",
    "\n",
    "\n",
    "def print_choices(human_choice, computer_choice):\n",
    "    print(f'You chose {human_choice}')\n",
    "    print(f'The computer chose {computer_choice}')\n",
    "    \n",
    "def print_win_lose(human_choice, computer_choice, human_beats, human_losses_to):\n",
    "    if computer_choice == human_losses_to:\n",
    "        print(f'Sorry, {computer_choice} beats {human_choice}')\n",
    "    elif computer_choice == human_beats:\n",
    "        print(f'Yes, {human_choice} beats {computer_choice}')\n",
    "\n",
    "def print_result(human_choice, computer_choice):\n",
    "    if human_choice == computer_choice:\n",
    "        print('Draw')\n",
    "    if human_choice == 'rock':\n",
    "        print_win_lose('rock', computer_choice, 'scissors', 'paper')\n",
    "    elif human_choice == 'paper':\n",
    "        print_win_lose('paper', computer_choice, 'rock', 'scissors')\n",
    "    elif human_choice == 'scissors':\n",
    "        print_win_lose('scissors', computer_choice, 'paper', 'rock')\n",
    "        \n",
    "print_options()\n",
    "human_choice = get_human_choice()\n",
    "computer_choice = get_computer_choice()\n",
    "print_choices(human_choice, computer_choice)\n",
    "print_result(human_choice, computer_choice)"
   ]
  }
 ],
 "metadata": {
  "kernelspec": {
   "display_name": "Python 3",
   "language": "python",
   "name": "python3"
  },
  "language_info": {
   "codemirror_mode": {
    "name": "ipython",
    "version": 3
   },
   "file_extension": ".py",
   "mimetype": "text/x-python",
   "name": "python",
   "nbconvert_exporter": "python",
   "pygments_lexer": "ipython3",
   "version": "3.11.9"
  }
 },
 "nbformat": 4,
 "nbformat_minor": 2
}
