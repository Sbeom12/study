{
 "cells": [
  {
   "cell_type": "code",
   "execution_count": 1,
   "metadata": {},
   "outputs": [
    {
     "name": "stdout",
     "output_type": "stream",
     "text": [
      "(1) Rock\n",
      "(2) Paper\n",
      "(3) Scissors\n",
      "You chose paper\n",
      "The computer chose paper\n",
      "Draw!\n"
     ]
    }
   ],
   "source": [
    "# Shoddy procedural code\n",
    "import random\n",
    "\n",
    "options = ['rock', 'paper', 'scissors']\n",
    "print('(1) Rock\\n(2) Paper\\n(3) Scissors')\n",
    "human_choice = options[int(input('Enter the number of your choice: ')) - 1]\n",
    "print(f'You chose {human_choice}')\n",
    "computer_choice = random.choice(options)\n",
    "print(f'The computer chose {computer_choice}')\n",
    "if human_choice == 'rock':\n",
    "    if computer_choice == 'paper':\n",
    "        print('Sorry, paper beat rock')\n",
    "    elif computer_choice == 'scissors':\n",
    "        print('Yes, rock beat scissors!')\n",
    "    else:\n",
    "        print('Draw!')\n",
    "elif human_choice == 'paper':\n",
    "    if computer_choice == 'scissors':\n",
    "        print('Sorry, scissors beat paper')\n",
    "    elif computer_choice == 'rock':\n",
    "        print('Yes, paper beat rock!')\n",
    "    else:\n",
    "        print('Draw!')\n",
    "elif human_choice == 'scissors':\n",
    "    if computer_choice == 'rock':\n",
    "        print('Sorry, rock beat scissors')\n",
    "    elif computer_choice == 'paper':\n",
    "        print('Yes, scissors beat paper!')\n",
    "    else:\n",
    "        print('Draw!')"
   ]
  },
  {
   "cell_type": "markdown",
   "metadata": {},
   "source": [
    "* function으로 관심도 분리"
   ]
  },
  {
   "cell_type": "code",
   "execution_count": null,
   "metadata": {},
   "outputs": [],
   "source": []
  }
 ],
 "metadata": {
  "kernelspec": {
   "display_name": "Python 3",
   "language": "python",
   "name": "python3"
  },
  "language_info": {
   "codemirror_mode": {
    "name": "ipython",
    "version": 3
   },
   "file_extension": ".py",
   "mimetype": "text/x-python",
   "name": "python",
   "nbconvert_exporter": "python",
   "pygments_lexer": "ipython3",
   "version": "3.11.8"
  }
 },
 "nbformat": 4,
 "nbformat_minor": 2
}
