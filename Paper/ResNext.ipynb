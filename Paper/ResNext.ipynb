{
 "cells": [
  {
   "cell_type": "markdown",
   "metadata": {},
   "source": [
    "# Aggregated Residual Transformations for Deep Neural Networks\n",
    "---\n",
    "* [링크](https://arxiv.org/abs/1611.05431)\n",
    "* ILSVRC(ImageNet Large Scale Visual Recognition Challenge) 2016 대회에서 2등을 차지한 모델.\n",
    "    * Resnet의 발전 버전."
   ]
  },
  {
   "cell_type": "markdown",
   "metadata": {},
   "source": [
    "## Summary\n",
    "---"
   ]
  },
  {
   "cell_type": "markdown",
   "metadata": {},
   "source": [
    "## "
   ]
  }
 ],
 "metadata": {
  "language_info": {
   "name": "python"
  }
 },
 "nbformat": 4,
 "nbformat_minor": 2
}
