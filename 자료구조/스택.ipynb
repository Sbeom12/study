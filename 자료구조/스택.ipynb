{
 "cells": [
  {
   "cell_type": "markdown",
   "metadata": {},
   "source": [
    "# Stack(스텍)\n",
    "---\n",
    "* '쌓다'의 의미로 데이터를 아래에서 부터 차례대로 쌓아 올린 형태의 자료구조.\n",
    "* 선입후출(FILO)의 구조 또는 후입선출(LIFO)의 구조\n",
    "    * 먼저 들어온게 나중에 나감.\n",
    "    * 나중에 들어온게 먼저 나감.\n",
    "    * 선입선출의 반대.\n",
    "\n",
    "</br>\n",
    "\n",
    "* 특히 크기를 조정해서 사용하기 떄문에 오버플로우가 발생할 수 있음.\n",
    "    * 여기서 stack overflow 사이트가 출범하게 됨. \n",
    "\n",
    "</br>\n",
    "\n",
    "## 활용\n",
    "* 'ctrl + z' : undo, 실행 취소\n",
    "* 웹 방문 기록(뒤로가기)\n",
    "\n",
    "</br>\n",
    "\n",
    "## 구현\n",
    "* 배열\n",
    "    * 배열에 요소를 넣어주고 index를 하나 올리면 됨.\n",
    "* 연결 리스트\n",
    "    * 공간 할당 후 새로운 요소 추가될 떄 포인터로 연결.\n",
    "\n",
    "# Queue(큐)\n",
    "---\n",
    "* "
   ]
  },
  {
   "cell_type": "markdown",
   "metadata": {},
   "source": []
  }
 ],
 "metadata": {
  "language_info": {
   "name": "python"
  }
 },
 "nbformat": 4,
 "nbformat_minor": 2
}
