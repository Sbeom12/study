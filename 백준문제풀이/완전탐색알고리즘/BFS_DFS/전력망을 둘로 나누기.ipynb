{
 "cells": [
  {
   "cell_type": "code",
   "execution_count": 4,
   "metadata": {},
   "outputs": [
    {
     "name": "stdout",
     "output_type": "stream",
     "text": [
      "defaultdict(<class 'list'>, {1: [3], 3: [1, 2, 4], 2: [3], 4: [3, 5, 6, 7], 5: [4], 6: [4], 7: [4, 8, 9], 8: [7], 9: [7]})\n",
      "노드 4는 4개의 다른 노드와 연결되어 있습니다: [3, 5, 6, 7]\n"
     ]
    },
    {
     "data": {
      "text/plain": [
       "-1"
      ]
     },
     "execution_count": 4,
     "metadata": {},
     "output_type": "execute_result"
    }
   ],
   "source": [
    "from collections import defaultdict\n",
    "def find_connections(graph, node):\n",
    "    if node not in graph:\n",
    "        return \"해당 노드가 그래프에 없습니다.\"\n",
    "    else:\n",
    "        return len(graph[node]), graph[node]\n",
    "def solution(n, wires):\n",
    "    graph = defaultdict(list)\n",
    "    # 연결 확인\n",
    "    for wire in wires:\n",
    "        node1, node2 = wire\n",
    "        graph[node1].append(node2)\n",
    "        graph[node2].append(node1)  # 양방향 그래프를 가정합니다.\n",
    "    print(graph)\n",
    "    degree = {node: len(neighbors) for node, neighbors in graph.items()}\n",
    "    node = 4\n",
    "    connections, connected_nodes = find_connections(graph, node)\n",
    "    print(f\"노드 {node}는 {connections}개의 다른 노드와 연결되어 있습니다: {connected_nodes}\")\n",
    "    answer = -1\n",
    "    #for _ in range(n-1):\n",
    "        \n",
    "    \n",
    "    return answer\n",
    "wires= [[1,3],[2,3],[3,4],[4,5],[4,6],[4,7],[7,8],[7,9]]\n",
    "solution(9, wires)"
   ]
  },
  {
   "cell_type": "code",
   "execution_count": 10,
   "metadata": {},
   "outputs": [
    {
     "name": "stdout",
     "output_type": "stream",
     "text": [
      "[1, 1, 1, 1, 1, 3, 6, 8, 9]\n"
     ]
    },
    {
     "data": {
      "text/plain": [
       "3"
      ]
     },
     "execution_count": 10,
     "metadata": {},
     "output_type": "execute_result"
    }
   ],
   "source": [
    "from collections import defaultdict\n",
    "\n",
    "def solution(n, wires):\n",
    "    # 그래프 생성\n",
    "    graph = defaultdict(list)\n",
    "    for u, v in wires:\n",
    "        graph[u].append(v)\n",
    "        graph[v].append(u)\n",
    "\n",
    "    # DFS를 이용해 각 노드별로 연결된 노드의 수를 구함\n",
    "    def dfs(node, parent):\n",
    "        count = 1  # 현재 노드를 포함시킴\n",
    "        for n in graph[node]:\n",
    "            if n == parent:  # 부모 노드는 건너뜀\n",
    "                continue\n",
    "            count += dfs(n, node)\n",
    "        counts.append(count)\n",
    "        return count\n",
    "\n",
    "    counts = []\n",
    "    \n",
    "    dfs(1, 0)  # 임의의 노드에서 시작(여기서는 1번 노드 사용)\n",
    "    print(counts)\n",
    "\n",
    "    # 전체 노드 수에서 두 번 빼줌으로써 두 그룹을 나누는 경우를 계산\n",
    "    answer = min(abs(n - (2 * c)) for c in counts[:-1])  # 마지막 노드는 제외\n",
    "\n",
    "    return answer\n",
    "wires= [[1,3],[2,3],[3,4],[4,5],[4,6],[4,7],[7,8],[7,9]]\n",
    "solution(9, wires)\n"
   ]
  },
  {
   "cell_type": "code",
   "execution_count": 1,
   "metadata": {},
   "outputs": [
    {
     "data": {
      "text/plain": [
       "3"
      ]
     },
     "execution_count": 1,
     "metadata": {},
     "output_type": "execute_result"
    }
   ],
   "source": [
    "def solution(n, wires):\n",
    "    answer = n\n",
    "    # 연결을 하나씩 끊어서 진행. 진행.\n",
    "    for i in range(n - 1):\n",
    "        graph = [set() for _ in range(n + 1)]\n",
    "        for j, (node1, node2) in enumerate(wires):\n",
    "            if i != j: # \n",
    "                graph[node1].add(node2)\n",
    "                graph[node2].add(node1)\n",
    "        # 노드 1부터 시작하여 연결된 노드의 수를 세기\n",
    "        visited = [0] * (n + 1)\n",
    "        stack = [1]\n",
    "        visited[1] = 1\n",
    "        while stack:\n",
    "            node = stack.pop()\n",
    "            for adjacent in graph[node]:\n",
    "                if not visited[adjacent]:\n",
    "                    stack.append(adjacent)\n",
    "                    visited[adjacent] = 1\n",
    "        # 두 전력망의 노드 수 차이 계산\n",
    "        answer = min(answer, abs(sum(visited) - (n - sum(visited))))\n",
    "    return answer\n",
    "wires= [[1,3],[2,3],[3,4],[4,5],[4,6],[4,7],[7,8],[7,9]]\n",
    "solution(9, wires)\n"
   ]
  },
  {
   "cell_type": "code",
   "execution_count": null,
   "metadata": {},
   "outputs": [],
   "source": []
  }
 ],
 "metadata": {
  "kernelspec": {
   "display_name": "Python 3",
   "language": "python",
   "name": "python3"
  },
  "language_info": {
   "codemirror_mode": {
    "name": "ipython",
    "version": 3
   },
   "file_extension": ".py",
   "mimetype": "text/x-python",
   "name": "python",
   "nbconvert_exporter": "python",
   "pygments_lexer": "ipython3",
   "version": "3.11.3"
  }
 },
 "nbformat": 4,
 "nbformat_minor": 2
}
