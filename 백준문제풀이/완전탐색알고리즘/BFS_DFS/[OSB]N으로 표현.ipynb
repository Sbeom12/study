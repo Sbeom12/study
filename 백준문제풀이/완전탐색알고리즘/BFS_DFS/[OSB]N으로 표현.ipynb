{
 "cells": [
  {
   "cell_type": "code",
   "execution_count": 26,
   "metadata": {},
   "outputs": [],
   "source": [
    "''' \n",
    "1번은 +, - , / , *\n",
    "2번은 2번 연달아\n",
    "      1번 + 1번\n",
    "3번은 3번 연달아\n",
    "      1번 + 2번\n",
    "      2번 + 1번\n",
    "4번은 4번 연달아\n",
    "      1번 + 3번\n",
    "      2번 + 2번\n",
    "      3번 + 1번\n",
    "5번은 5번 연달아\n",
    "      1번 + 4번\n",
    "      2번 + 3번\n",
    "      3번 + 2번\n",
    "      4번 + 1번\n",
    "'''\n",
    "def solution(N, number):\n",
    "    answer = -1\n",
    "    number_list = []\n",
    "    if N == number:\n",
    "        return 1\n",
    "    for count in range(1, 9): # max가 8\n",
    "        temp_set = set() # 집합 초기화\n",
    "        temp_set.add(int(str(N)*count))\n",
    "        for i in range(count-1):\n",
    "            for x in number_list[i]: #앞에서부터\n",
    "                for y in number_list[-i-1]: #뒤에서부터\n",
    "                    temp_set.add(x+y)\n",
    "                    temp_set.add(x-y)\n",
    "                    temp_set.add(x*y)\n",
    "                    if y!= 0:\n",
    "                        temp_set.add(x/y)\n",
    "        if number in temp_set:\n",
    "            return count\n",
    "        number_list.append(temp_set)\n",
    "    return answer\n"
   ]
  },
  {
   "cell_type": "code",
   "execution_count": null,
   "metadata": {},
   "outputs": [],
   "source": []
  },
  {
   "cell_type": "code",
   "execution_count": null,
   "metadata": {},
   "outputs": [],
   "source": []
  },
  {
   "cell_type": "code",
   "execution_count": 34,
   "metadata": {},
   "outputs": [],
   "source": [
    "from collections import deque\n",
    "def checkword(word1, word2):\n",
    "    temp = 0\n",
    "    length = len(word1)\n",
    "    for index,alphabet in enumerate(word1):\n",
    "        if alphabet == word2[index]:\n",
    "            temp += 1\n",
    "    if temp ==length-1:\n",
    "        return True\n",
    "    else:\n",
    "        return False\n",
    "def solution(begin, target, words):\n",
    "    if target not in words:\n",
    "        return 0\n",
    "    index = words.index(target)\n",
    "    answer = 0\n",
    "    length = len(begin)\n",
    "    answer_list =[0 for _ in range(len(words))]\n",
    "    queue = deque()\n",
    "    queue.append(begin)\n",
    "    if answer_list[index] != 0:\n",
    "        return answer_list[index]\n",
    "    while queue:\n",
    "        current = queue.popleft()\n",
    "        for idx, word in enumerate(words):\n",
    "            if answer_list[idx]  == 0:\n",
    "                if checkword(current, word):\n",
    "                    queue.append(word)\n",
    "                    answer += 1\n",
    "                    words[idx] = str(answer)*length\n",
    "                    answer_list[idx] = answer\n",
    "                    \n",
    "    print(answer_list)\n",
    "    return answer_list[index]"
   ]
  },
  {
   "cell_type": "code",
   "execution_count": 35,
   "metadata": {},
   "outputs": [
    {
     "name": "stdout",
     "output_type": "stream",
     "text": [
      "[1, 2, 4, 3, 5, 6]\n"
     ]
    },
    {
     "data": {
      "text/plain": [
       "6"
      ]
     },
     "execution_count": 35,
     "metadata": {},
     "output_type": "execute_result"
    }
   ],
   "source": [
    "solution('hit', 'cog', [\"hot\", \"dot\", \"dog\", \"lot\", \"log\", \"cog\"])"
   ]
  },
  {
   "cell_type": "code",
   "execution_count": 18,
   "metadata": {},
   "outputs": [
    {
     "ename": "NameError",
     "evalue": "name 'answer_list' is not defined",
     "output_type": "error",
     "traceback": [
      "\u001b[1;31m---------------------------------------------------------------------------\u001b[0m",
      "\u001b[1;31mNameError\u001b[0m                                 Traceback (most recent call last)",
      "\u001b[1;32mc:\\Users\\C4022\\Desktop\\공부\\[OSB]N으로 표현.ipynb 셀 6\u001b[0m line \u001b[0;36m1\n\u001b[1;32m----> <a href='vscode-notebook-cell:/c%3A/Users/C4022/Desktop/%EA%B3%B5%EB%B6%80/%5BOSB%5DN%EC%9C%BC%EB%A1%9C%20%ED%91%9C%ED%98%84.ipynb#W5sZmlsZQ%3D%3D?line=0'>1</a>\u001b[0m answer_list\n",
      "\u001b[1;31mNameError\u001b[0m: name 'answer_list' is not defined"
     ]
    }
   ],
   "source": [
    "answer_list"
   ]
  },
  {
   "cell_type": "code",
   "execution_count": null,
   "metadata": {},
   "outputs": [],
   "source": []
  }
 ],
 "metadata": {
  "kernelspec": {
   "display_name": "Python 3",
   "language": "python",
   "name": "python3"
  },
  "language_info": {
   "codemirror_mode": {
    "name": "ipython",
    "version": 3
   },
   "file_extension": ".py",
   "mimetype": "text/x-python",
   "name": "python",
   "nbconvert_exporter": "python",
   "pygments_lexer": "ipython3",
   "version": "3.11.3"
  }
 },
 "nbformat": 4,
 "nbformat_minor": 2
}
